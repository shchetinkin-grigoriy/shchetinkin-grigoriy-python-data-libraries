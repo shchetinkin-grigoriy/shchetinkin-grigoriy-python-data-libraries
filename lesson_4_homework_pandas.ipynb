{
 "cells": [
  {
   "cell_type": "code",
   "execution_count": 3,
   "metadata": {},
   "outputs": [],
   "source": [
    "import numpy as np\n",
    "import pandas as pd\n",
    "\n",
    "%matplotlib inline"
   ]
  },
  {
   "cell_type": "markdown",
   "metadata": {},
   "source": [
    "## **Задание на повторение материала"
   ]
  },
  {
   "cell_type": "code",
   "execution_count": 27,
   "metadata": {},
   "outputs": [
    {
     "data": {
      "text/plain": [
       "array([12, 13, 14, 15, 16, 17, 18, 19, 20, 21, 22, 23])"
      ]
     },
     "execution_count": 27,
     "metadata": {},
     "output_type": "execute_result"
    }
   ],
   "source": [
    "#1. Создать одномерный массив Numpy под названием a из 12 последовательных \n",
    "# целых чисел чисел от 12 до 24 невключительно\n",
    "a = np.arange(12, 24)\n",
    "a"
   ]
  },
  {
   "cell_type": "code",
   "execution_count": 34,
   "metadata": {},
   "outputs": [
    {
     "data": {
      "text/plain": [
       "[array([[12, 13, 14, 15, 16, 17],\n",
       "        [18, 19, 20, 21, 22, 23]]), array([[12, 13, 14, 15],\n",
       "        [16, 17, 18, 19],\n",
       "        [20, 21, 22, 23]]), array([[12, 13, 14],\n",
       "        [15, 16, 17],\n",
       "        [18, 19, 20],\n",
       "        [21, 22, 23]]), array([[12, 13],\n",
       "        [14, 15],\n",
       "        [16, 17],\n",
       "        [18, 19],\n",
       "        [20, 21],\n",
       "        [22, 23]]), array([[12],\n",
       "        [13],\n",
       "        [14],\n",
       "        [15],\n",
       "        [16],\n",
       "        [17],\n",
       "        [18],\n",
       "        [19],\n",
       "        [20],\n",
       "        [21],\n",
       "        [22],\n",
       "        [23]])]"
      ]
     },
     "execution_count": 34,
     "metadata": {},
     "output_type": "execute_result"
    }
   ],
   "source": [
    "#2. Создать 5 двумерных массивов разной формы из массива a. Не использовать в аргументах метода reshape число -1.\n",
    "\n",
    "#Сразу сделал универсальный метод\n",
    "b = [a.reshape(i,len(a)//i) for i in range(2,len(a) + 1) if len(a) % i == 0]\n",
    "b"
   ]
  },
  {
   "cell_type": "code",
   "execution_count": 41,
   "metadata": {},
   "outputs": [
    {
     "name": "stdout",
     "output_type": "stream",
     "text": [
      "[array([[12, 13, 14, 15, 16, 17],\n",
      "       [18, 19, 20, 21, 22, 23]]), array([[12, 13, 14, 15],\n",
      "       [16, 17, 18, 19],\n",
      "       [20, 21, 22, 23]]), array([[12, 13, 14],\n",
      "       [15, 16, 17],\n",
      "       [18, 19, 20],\n",
      "       [21, 22, 23]])]\n"
     ]
    },
    {
     "data": {
      "text/plain": [
       "[array([[12, 13],\n",
       "        [14, 15],\n",
       "        [16, 17],\n",
       "        [18, 19],\n",
       "        [20, 21],\n",
       "        [22, 23]]), array([[12, 13, 14],\n",
       "        [15, 16, 17],\n",
       "        [18, 19, 20],\n",
       "        [21, 22, 23]])]"
      ]
     },
     "execution_count": 41,
     "metadata": {},
     "output_type": "execute_result"
    }
   ],
   "source": [
    "#3. Создать 5 двумерных массивов разной формы из массива a. Использовать в аргументах метода reshape число -1 \n",
    "# (в трех примерах - для обозначения числа столбцов, в двух - для строк).\n",
    "\n",
    "c1 = [a.reshape(i,-1) for i in range(2,len(a) + 1) if len(a) % i == 0][:3]\n",
    "print(c1)\n",
    "\n",
    "c2 = [a.reshape(-1,i) for i in range(2,len(a) + 1) if len(a) % i == 0][:2]\n",
    "c2"
   ]
  },
  {
   "cell_type": "code",
   "execution_count": 62,
   "metadata": {},
   "outputs": [
    {
     "data": {
      "text/plain": [
       "array([12, 13, 14, 15, 16, 17, 18, 19, 20, 21, 22, 23])"
      ]
     },
     "execution_count": 62,
     "metadata": {},
     "output_type": "execute_result"
    }
   ],
   "source": [
    "#4. Можно ли массив Numpy, состоящий из одного столбца и 12 строк, назвать одномерным?\n",
    "\n",
    "# Для примера берем последний элемент списка из пункта 2 - там уже был вертикальный вектор. \n",
    "# Сделал \"вручную\", без flatten\n",
    "d = b[-1]\n",
    "d = d.T[0]\n",
    "d"
   ]
  },
  {
   "cell_type": "code",
   "execution_count": 68,
   "metadata": {},
   "outputs": [
    {
     "name": "stdout",
     "output_type": "stream",
     "text": [
      "[[ 0.86928951 -0.67938227  2.01573012  0.7779563 ]\n",
      " [ 0.2253445   2.20482027  0.3818926   0.90586465]\n",
      " [-0.21950103  0.22417243 -1.15659216 -0.15392866]]\n"
     ]
    },
    {
     "data": {
      "text/plain": [
       "array([ 0.86928951, -0.67938227,  2.01573012,  0.7779563 ,  0.2253445 ,\n",
       "        2.20482027,  0.3818926 ,  0.90586465, -0.21950103,  0.22417243,\n",
       "       -1.15659216, -0.15392866])"
      ]
     },
     "execution_count": 68,
     "metadata": {},
     "output_type": "execute_result"
    }
   ],
   "source": [
    "#5. Создать массив из 3 строк и 4 столбцов, состоящий из случайных чисел с плавающей запятой \n",
    "# из нормального распределения со средним, равным 0 и среднеквадратичным отклонением, равным 1.0. \n",
    "# Получить из этого массива одномерный массив с таким же атрибутом size, как и исходный массив.\n",
    "e = np.random.randn(3,4)\n",
    "print(e)\n",
    "\n",
    "f = e.flatten()\n",
    "f"
   ]
  },
  {
   "cell_type": "code",
   "execution_count": 69,
   "metadata": {},
   "outputs": [
    {
     "data": {
      "text/plain": [
       "array([20, 18, 16, 14, 12, 10,  8,  6,  4,  2])"
      ]
     },
     "execution_count": 69,
     "metadata": {},
     "output_type": "execute_result"
    }
   ],
   "source": [
    "#6. Создать массив a, состоящий из целых чисел, убывающих от 20 до 0 невключительно с интервалом 2.\n",
    "a = np.arange(20, 0, -2)\n",
    "a"
   ]
  },
  {
   "cell_type": "code",
   "execution_count": 91,
   "metadata": {},
   "outputs": [
    {
     "data": {
      "text/plain": [
       "array([[20, 18, 16, 14, 12, 10,  8,  6,  4,  2]])"
      ]
     },
     "execution_count": 91,
     "metadata": {},
     "output_type": "execute_result"
    }
   ],
   "source": [
    "#7.Создать массив b, состоящий из 1 строки и 10 столбцов: целых чисел, убывающих от 20 до 1 невключительно \n",
    "# с интервалом 2. В чем разница между массивами a и b?\n",
    "b = np.arange(20,1, -2)\n",
    "b.resize(1, len(b))\n",
    "b\n",
    "\n",
    "#ОТВЕТ - разница в то что a - одмерная структура, b - двумерная"
   ]
  },
  {
   "cell_type": "code",
   "execution_count": 90,
   "metadata": {},
   "outputs": [
    {
     "name": "stdout",
     "output_type": "stream",
     "text": [
      "[[0. 0.]\n",
      " [0. 0.]]\n",
      "[[1. 1.]\n",
      " [1. 1.]\n",
      " [1. 1.]]\n",
      "[[0. 0.]\n",
      " [0. 0.]\n",
      " [1. 1.]\n",
      " [1. 1.]\n",
      " [1. 1.]]\n"
     ]
    },
    {
     "data": {
      "text/plain": [
       "10"
      ]
     },
     "execution_count": 90,
     "metadata": {},
     "output_type": "execute_result"
    }
   ],
   "source": [
    "#8. Вертикально соединить массивы a и b. a - двумерный массив из нулей, \n",
    "# число строк которого больше 1 и на 1 меньше, чем число строк двумерного массива b, состоящего из единиц. \n",
    "# Итоговый массив v должен иметь атрибут size, равный 10.\n",
    "\n",
    "a = np.zeros([2,2])\n",
    "print(a)\n",
    "\n",
    "b = np.ones([3,2])\n",
    "print(b)\n",
    "v = np.vstack([a, b])\n",
    "print(v)\n",
    "v.size\n"
   ]
  },
  {
   "cell_type": "code",
   "execution_count": 99,
   "metadata": {},
   "outputs": [
    {
     "name": "stdout",
     "output_type": "stream",
     "text": [
      "[[ 0  1  2]\n",
      " [ 3  4  5]\n",
      " [ 6  7  8]\n",
      " [ 9 10 11]]\n",
      "[[ 0  3  6  9]\n",
      " [ 1  4  7 10]\n",
      " [ 2  5  8 11]]\n",
      "[[  5  14  23  32]\n",
      " [ 14  50  86 122]\n",
      " [ 23  86 149 212]\n",
      " [ 32 122 212 302]]\n",
      "Shape of B:(4, 4), size: 16\n"
     ]
    },
    {
     "data": {
      "text/plain": [
       "0.0"
      ]
     },
     "execution_count": 99,
     "metadata": {},
     "output_type": "execute_result"
    }
   ],
   "source": [
    "#9. Создать одномерный массив а, состоящий из последовательности целых чисел от 0 до 12. \n",
    "# Поменять форму этого массива, чтобы получилась матрица A (двумерный массив Numpy), \n",
    "# состоящая из 4 строк и 3 столбцов. Получить матрицу At путем транспонирования матрицы A. \n",
    "# Получить матрицу B, умножив матрицу A на матрицу At с помощью матричного умножения. \n",
    "# Какой размер имеет матрица B? Получится ли вычислить обратную матрицу для матрицы B и почему?\n",
    "\n",
    "a = np.arange(0, 12).reshape(4,3)\n",
    "print(a)\n",
    "At = a.T\n",
    "print(At)\n",
    "B = np.dot(a, At)\n",
    "print(B)\n",
    "#Размер B\n",
    "print(f'Shape of B:{B.shape}, size: {B.size}')\n",
    "\n",
    "Bdet = np.linalg.det(B)\n",
    "Bdet\n",
    "\n",
    "# Детерминант = 0, поэтому обратной матрицы не существует"
   ]
  },
  {
   "cell_type": "code",
   "execution_count": 112,
   "metadata": {},
   "outputs": [],
   "source": [
    "#10. Инициализируйте генератор случайных числе с помощью объекта seed, равного 42.\n",
    "np.random.seed(10)"
   ]
  },
  {
   "cell_type": "code",
   "execution_count": 113,
   "metadata": {},
   "outputs": [
    {
     "data": {
      "text/plain": [
       "array([ 9, 13,  4, 15,  0,  1, 11, 12,  9, 13,  0, 13,  1, 10,  8,  9])"
      ]
     },
     "execution_count": 113,
     "metadata": {},
     "output_type": "execute_result"
    }
   ],
   "source": [
    "#11. Создайте одномерный массив c, составленный из последовательности 16-ти случайных равномерно \n",
    "# распределенных целых чисел от 0 до 16 невключительно. \n",
    "c = np.random.randint(0, 16, 16)\n",
    "c"
   ]
  },
  {
   "cell_type": "code",
   "execution_count": 128,
   "metadata": {},
   "outputs": [
    {
     "name": "stdout",
     "output_type": "stream",
     "text": [
      "[[  5  14  23  32]\n",
      " [ 14  50  86 122]\n",
      " [ 23  86 149 212]\n",
      " [ 32 122 212 302]]\n",
      "[[ 9 13  4 15]\n",
      " [ 0  1 11 12]\n",
      " [ 9 13  0 13]\n",
      " [ 1 10  8  9]]\n",
      "[[ 95 144  63 182]\n",
      " [ 14  60 196 242]\n",
      " [113 216 149 342]\n",
      " [ 42 222 292 392]]\n",
      "Matrix D: Det 70010399.99999993, Rank 4, Inv [[ 0.04365894  0.01516746 -0.02770303 -0.00546433]\n",
      " [-0.00033624 -0.01367968 -0.00180459  0.01017563]\n",
      " [ 0.03145161  0.00806452 -0.02983871  0.00645161]\n",
      " [-0.02791557  0.00011484  0.02621696 -0.00743204]]\n"
     ]
    }
   ],
   "source": [
    "#12. Поменяйте его форму так, чтобы получилась квадратная матрица C. \n",
    "# Получите матрицу D, поэлементно прибавив матрицу B из предыдущего вопроса к матрице C, умноженной на 10. \n",
    "# Вычислите определитель, ранг и обратную матрицу D_inv для D.\n",
    "import math\n",
    "print(B)\n",
    "C = c.reshape(int(math.sqrt(len(c))), int(math.sqrt(len(c))))\n",
    "print(C)\n",
    "D= B + C * 10\n",
    "print(D)\n",
    "\n",
    "D_det = np.linalg.det(D)\n",
    "D_rank = np.linalg.matrix_rank(D)\n",
    "D_inv = np.linalg.inv(D)\n",
    "print('Matrix D: Det {}, Rank {}, Inv {}'.format(D_det, D_rank, D_inv))"
   ]
  },
  {
   "cell_type": "code",
   "execution_count": 142,
   "metadata": {},
   "outputs": [
    {
     "data": {
      "text/plain": [
       "array([[1., 1., 0., 0.],\n",
       "       [0., 0., 0., 1.],\n",
       "       [1., 1., 0., 1.],\n",
       "       [0., 1., 1., 0.]])"
      ]
     },
     "execution_count": 142,
     "metadata": {},
     "output_type": "execute_result"
    }
   ],
   "source": [
    "#13. Приравняйте к нулю отрицательные числа в матрице D_inv, а положительные - к единице. \n",
    "# Убедитесь, что в матрице D_inv остались только нули и единицы. \n",
    "\n",
    "D_inv2 = D_inv.copy()\n",
    "D_inv2[(D_inv2 < 0)] = 0\n",
    "D_inv2[(D_inv2 > 0)] = 1\n",
    "D_inv2"
   ]
  },
  {
   "cell_type": "code",
   "execution_count": 141,
   "metadata": {},
   "outputs": [
    {
     "data": {
      "text/plain": [
       "array([[  5,  14,   4,  15],\n",
       "       [  0,   1,  11, 122],\n",
       "       [ 23,  86,   0, 212],\n",
       "       [  1, 122, 212,   9]])"
      ]
     },
     "execution_count": 141,
     "metadata": {},
     "output_type": "execute_result"
    }
   ],
   "source": [
    "# С помощью функции numpy.where, используя матрицу D_inv в качестве маски, \n",
    "#   а матрицы B и C - в качестве источников данных, получите матрицу E размером 4x4.  \n",
    "# Элементы матрицы E, для которых соответствующий элемент матрицы D_inv равен 1, \n",
    "#   должны быть равны соответствующему элементу матрицы B, а элементы матрицы E, \n",
    "#   для которых соответствующий элемент матрицы D_inv равен 0, должны быть равны соответствующему элементу матрицы C.\n",
    "\n",
    "E = np.where(D_inv2 > 0, B, C)\n",
    "E"
   ]
  }
 ],
 "metadata": {
  "kernelspec": {
   "display_name": "Python 3",
   "language": "python",
   "name": "python3"
  },
  "language_info": {
   "codemirror_mode": {
    "name": "ipython",
    "version": 3
   },
   "file_extension": ".py",
   "mimetype": "text/x-python",
   "name": "python",
   "nbconvert_exporter": "python",
   "pygments_lexer": "ipython3",
   "version": "3.7.4"
  }
 },
 "nbformat": 4,
 "nbformat_minor": 2
}
